{
  "nbformat": 4,
  "nbformat_minor": 5,
  "metadata": {
    "selected_hardware_size": "small",
    "noteable": {
      "last_transaction_id": "f42dd72a-4887-46a5-a1c2-03d1edfdd54f"
    }
  },
  "cells": [
    {
      "id": "cd5227f1-dd02-4597-b884-9f0a14e19b01",
      "cell_type": "markdown",
      "source": "MLOps. Практическое задание №5",
      "metadata": {
        "noteable": {
          "cell_type": "markdown"
        }
      }
    },
    {
      "id": "1638594d-84e6-4728-a5f0-73d267914297",
      "cell_type": "markdown",
      "source": "Антропова Н.Г.",
      "metadata": {
        "noteable": {
          "cell_type": "markdown"
        }
      }
    },
    {
      "id": "38c5312b-f017-4f01-825c-cabdb6b36930",
      "cell_type": "markdown",
      "source": "ЦЕЛЬ ЗАДАНИЯ:\nПрименить средства автоматизации тестирования python для автоматического тестирования качества работы модели машинного обучения на различных датасетах.",
      "metadata": {
        "noteable": {
          "cell_type": "markdown"
        }
      }
    },
    {
      "id": "c498002cadfb45a4bd6e274a8e065899",
      "cell_type": "code",
      "metadata": {
        "noteable": {
          "output_collection_id": "fa4767ff-871f-4e57-bb61-563416e1bd42"
        },
        "ExecuteTime": {
          "end_time": "2023-06-23T18:56:18.492236+00:00",
          "start_time": "2023-06-23T18:56:18.335637+00:00"
        }
      },
      "execution_count": null,
      "source": "# Импорт необходимых библиотек\nimport numpy as np\nimport pandas as pd\nimport matplotlib.pyplot as plt\nfrom sklearn.datasets import make_regression",
      "outputs": []
    },
    {
      "id": "4656be89-a8f9-4cff-b4ab-fa4782aec31e",
      "cell_type": "code",
      "metadata": {
        "noteable": {
          "cell_type": "code",
          "output_collection_id": "f4b71793-5c1d-4dd1-8eee-5878e0ada8e0"
        },
        "ExecuteTime": {
          "end_time": "2023-06-23T18:56:22.127077+00:00",
          "start_time": "2023-06-23T18:56:21.535811+00:00"
        }
      },
      "execution_count": null,
      "source": "# Dataset 1: линейная зависимость\nX1 = np.linspace(0, 20, 200).reshape(-1, 1)\ny1 = X1 + np.random.random((200, 1))*3 - 1\ndf1 = pd.DataFrame(data=X1, columns=['Feature1'])\ndf1['Target'] = y1\n\n# Визуализация Dataset 1\nplt.figure(figsize=(8, 6))\nplt.scatter(df1['Feature1'], df1['Target'], color='blue')\nplt.title('Dataset 1')\nplt.xlabel('Feature1')\nplt.ylabel('Target')\nplt.show()",
      "outputs": []
    },
    {
      "id": "9c8e44ae-5999-48f5-9444-52e956899478",
      "cell_type": "markdown",
      "source": "Создаём три датасета с «качественными данными», на которых можно обучить простую модель линейной регрессии.",
      "metadata": {
        "noteable": {
          "cell_type": "markdown"
        }
      }
    },
    {
      "id": "a0e03c76-787f-450f-aafd-c0efd5e0f17c",
      "cell_type": "code",
      "metadata": {
        "noteable": {
          "cell_type": "code",
          "output_collection_id": "5f5c8806-633e-4735-81d4-30cf165c7398"
        },
        "ExecuteTime": {
          "end_time": "2023-06-23T18:56:26.781840+00:00",
          "start_time": "2023-06-23T18:56:26.335403+00:00"
        }
      },
      "execution_count": null,
      "source": "# Dataset 2: линейная зависимость\nX2 = np.linspace(0, 20, 200).reshape(-1, 1) \ny2 = X2 + np.random.random((200,1))*2 - 1\ndf2 = pd.DataFrame(data=X2, columns=['Feature1'])\ndf2['Target'] = y2\n\n# Визуализация Dataset 2\nplt.figure(figsize=(8, 6))\nplt.scatter(df2['Feature1'], df2['Target'], color='red')\nplt.title('Dataset 2')\nplt.xlabel('Feature1')\nplt.ylabel('Target')\nplt.show()",
      "outputs": []
    },
    {
      "id": "ac7a2cd3-4d2e-44f3-baf6-b1a19b41b5fe",
      "cell_type": "code",
      "metadata": {
        "jupyter": {
          "outputs_hidden": false,
          "source_hidden": false
        },
        "noteable": {
          "cell_type": "code",
          "output_collection_id": "d8d647b7-1381-4751-8acc-19f17cf6aba2"
        },
        "ExecuteTime": {
          "end_time": "2023-06-23T18:56:30.405942+00:00",
          "start_time": "2023-06-23T18:56:29.987461+00:00"
        }
      },
      "execution_count": null,
      "source": "# Dataset 3: линейная зависимость\nX3 = np.linspace(0, 10, 100).reshape(-1, 1)\ny3 = X3 + np.random.random((100, 1))*1 - 0.5\ndf3 = pd.DataFrame(data=X3, columns=['Feature1'])\ndf3['Target'] = y3\n\n# Визуализация Dataset 3\nplt.figure(figsize=(8, 6))\nplt.scatter(df3['Feature1'], df3['Target'], color='purple')\nplt.title('Dataset 3')\nplt.xlabel('Feature1')\nplt.ylabel('Target')\nplt.show()",
      "outputs": []
    },
    {
      "id": "ebf3a29e-c850-406f-a550-2154b0fce079",
      "cell_type": "markdown",
      "source": "Обучаем модель линейной регрессии на наборе данных Dataset 3.",
      "metadata": {
        "noteable": {
          "cell_type": "markdown"
        }
      }
    },
    {
      "id": "3161d6d2-d0dc-42e2-af22-fa798d95edd4",
      "cell_type": "code",
      "metadata": {
        "noteable": {
          "cell_type": "code",
          "output_collection_id": "52f647c2-2895-4546-8609-9585cb92a7e2"
        },
        "ExecuteTime": {
          "end_time": "2023-06-23T18:56:34.034815+00:00",
          "start_time": "2023-06-23T18:56:33.671454+00:00"
        }
      },
      "execution_count": null,
      "source": "from sklearn.metrics import r2_score\n\n# Обучение модели на третьем датасете\nmodel3 = LinearRegression()\nmodel3.fit(df3['Feature1'].values.reshape(-1, 1), df3['Target'])\n\n# Предсказание модели\napprox3 = model3.predict(df3['Feature1'].values.reshape(-1, 1))\n\n# Вычисление среднеквадратичной ошибки и R2-оценки\nprint('Mean squared error: %.2f' % mean_squared_error(df3['Target'], approx3))\nprint('R-squared (R2) Score: %.2f' % r2_score(df3['Target'], approx3))\n\n# Визуализация результатов\nplt.scatter(df3['Feature1'], df3['Target'])\nplt.plot(df3['Feature1'], approx3, color='purple', linewidth=3)\nplt.show()",
      "outputs": []
    },
    {
      "id": "d4464a0a-dafc-46df-9984-91406004209c",
      "cell_type": "markdown",
      "source": "Создаём датасет с шумом в данных, добавим выбросы.",
      "metadata": {
        "noteable": {
          "cell_type": "markdown"
        }
      }
    },
    {
      "id": "154a0055-59d9-4f67-a685-7ba995e46801",
      "cell_type": "code",
      "metadata": {
        "noteable": {
          "cell_type": "code",
          "output_collection_id": "917d1a6f-23c2-418e-aee7-05a02c31de56"
        },
        "ExecuteTime": {
          "end_time": "2023-06-23T18:56:44.593285+00:00",
          "start_time": "2023-06-23T18:56:44.131656+00:00"
        }
      },
      "execution_count": null,
      "source": "# Dataset 4: линейная зависимость с шумом и выбросами\nX4 = np.linspace(0, 20, 200).reshape(-1, 1)\ny4 = X4 + np.random.random((200, 1))*3 - 1\n\n# Добавляем выбросы\ny4[50:70] *= 3\n\n# DataFrame для удобства визуализации\ndf4 = pd.DataFrame(data=X4, columns=['Feature1'])\ndf4['Target'] = y4\n\n# Визуализация Dataset 4\nplt.figure(figsize=(8, 6))\nplt.scatter(df4['Feature1'], df4['Target'], color='green')\nplt.title('Dataset 4')\nplt.xlabel('Feature1')\nplt.ylabel('Target')\nplt.show()",
      "outputs": []
    },
    {
      "id": "6ea5b9c1-fec1-4dfb-bcc5-617d0b498e83",
      "cell_type": "markdown",
      "source": "Устанавливаем pytest.",
      "metadata": {
        "noteable": {
          "cell_type": "markdown"
        }
      }
    },
    {
      "id": "b9eca752-d9d0-42fd-82a0-2a07b94613e4",
      "cell_type": "code",
      "metadata": {
        "noteable": {
          "cell_type": "code",
          "output_collection_id": "b1973715-4b77-4568-b09a-1422ad812f19"
        },
        "ExecuteTime": {
          "end_time": "2023-06-23T18:56:53.604151+00:00",
          "start_time": "2023-06-23T18:56:49.335476+00:00"
        }
      },
      "execution_count": null,
      "source": "!pip install pytest",
      "outputs": []
    },
    {
      "id": "f31eaff0-8d96-4521-a555-d72789bf9807",
      "cell_type": "markdown",
      "source": "Запишем модель и датасеты в файлы.",
      "metadata": {
        "noteable": {
          "cell_type": "markdown"
        }
      }
    },
    {
      "id": "37987408-51f6-4133-8eb7-95ab4a645b38",
      "cell_type": "code",
      "metadata": {
        "noteable": {
          "cell_type": "code",
          "output_collection_id": "89c5a6c6-03d2-4d55-8116-80c8922d6fc6"
        },
        "ExecuteTime": {
          "end_time": "2023-06-23T18:56:55.259723+00:00",
          "start_time": "2023-06-23T18:56:55.093283+00:00"
        }
      },
      "execution_count": null,
      "source": "import pickle\n\n# Сохраняем модель в файл\nwith open('model3.pkl', 'wb') as f:\n    pickle.dump(model3, f)\n\n# Сохраняем датасеты в файлы\ndf1.to_csv('dataset1.csv', index=False)\ndf2.to_csv('dataset2.csv', index=False)\ndf3.to_csv('dataset3.csv', index=False)\ndf4.to_csv('dataset4.csv', index=False)",
      "outputs": []
    },
    {
      "id": "4a419ff0-7858-4cef-8585-891d47479c26",
      "cell_type": "markdown",
      "source": "Напишем тесты с использованием pytest, которые будут проверять, что среднеквадратичная ошибка (MSE) не превышает 2, и что R2-оценка находится в диапазоне от 0 до 1.",
      "metadata": {
        "noteable": {
          "cell_type": "markdown"
        }
      }
    },
    {
      "id": "4c992ff3-93a2-4984-bd95-288f2029f978",
      "cell_type": "markdown",
      "source": "Проверка модели на наборе данных Dataset 1:",
      "metadata": {
        "noteable": {
          "cell_type": "markdown"
        }
      }
    },
    {
      "id": "50c663bb-9717-4f34-a41e-e4c19fe850d3",
      "cell_type": "code",
      "metadata": {
        "noteable": {
          "cell_type": "code",
          "output_collection_id": "a146e58b-ff62-4196-b8d7-bd7a61c49ecb"
        },
        "ExecuteTime": {
          "end_time": "2023-06-23T18:57:00.991621+00:00",
          "start_time": "2023-06-23T18:57:00.833811+00:00"
        }
      },
      "execution_count": null,
      "source": "%%writefile test_data1.py\nimport pytest\nimport pandas as pd\nimport pickle\nfrom sklearn.metrics import mean_squared_error, r2_score\nfrom sklearn.linear_model import LinearRegression\n\n# Загружаем модель из файла\nwith open('model3.pkl', 'rb') as f:\n    model = pickle.load(f)\n\n# Загружаем датасет из файла\ndf1 = pd.read_csv('dataset1.csv')\n\ndef test_dataset1():\n    # Предсказание модели\n    approx = model.predict(df1['Feature1'].values.reshape(-1, 1))\n\n    # Вычисление среднеквадратичной ошибки и R2-оценки\n    mse = mean_squared_error(df1['Target'], approx)\n    r2 = r2_score(df1['Target'], approx)\n\n    # Проверка, что mse не превышает 2\n    assert mse <= 2, f'Dataset 1: MSE is {mse}, что больше допустимого значения [2]'\n\n    # Проверка, что r2 находится в диапазоне от 0 до 1\n    assert 0 <= r2 <= 1, f'Dataset 1: R2 score is {r2}, что не находится в допустимом диапазоне [0, 1]'\n\ntest_dataset1()",
      "outputs": []
    },
    {
      "id": "f42aa44e-ff9a-4412-8680-28dea85136bb",
      "cell_type": "code",
      "metadata": {
        "noteable": {
          "cell_type": "code",
          "output_collection_id": "0b1f6495-2fea-49dd-952f-b5d160e5ec56"
        },
        "ExecuteTime": {
          "end_time": "2023-06-23T18:57:06.743394+00:00",
          "start_time": "2023-06-23T18:57:04.137306+00:00"
        }
      },
      "execution_count": null,
      "source": "!pytest test_data1.py",
      "outputs": []
    },
    {
      "id": "23a81898-7863-4a9d-8d76-3f9e31b23426",
      "cell_type": "markdown",
      "source": "Проверка модели на наборе данных Dataset 2:",
      "metadata": {
        "noteable": {
          "cell_type": "markdown"
        }
      }
    },
    {
      "id": "f6261b0e-ee45-4b4d-89c5-57dd4a8b2ca6",
      "cell_type": "code",
      "metadata": {
        "jupyter": {
          "outputs_hidden": false,
          "source_hidden": false
        },
        "noteable": {
          "cell_type": "code",
          "output_collection_id": "32860da0-0ad5-4325-b578-7ff8b52a5be6"
        },
        "ExecuteTime": {
          "end_time": "2023-06-23T18:57:09.247219+00:00",
          "start_time": "2023-06-23T18:57:09.089245+00:00"
        }
      },
      "execution_count": null,
      "source": "%%writefile test_data2.py\nimport pytest\nimport pandas as pd\nimport pickle\nfrom sklearn.metrics import mean_squared_error, r2_score\nfrom sklearn.linear_model import LinearRegression\n\n# Загружаем модель из файла\nwith open('model3.pkl', 'rb') as f:\n    model = pickle.load(f)\n\n# Загружаем датасет из файла\ndf2 = pd.read_csv('dataset2.csv')\n\ndef test_dataset2():\n    # Предсказание модели\n    approx = model.predict(df2['Feature1'].values.reshape(-1, 1))\n\n    # Вычисление среднеквадратичной ошибки и R2-оценки\n    mse = mean_squared_error(df2['Target'], approx)\n    r2 = r2_score(df2['Target'], approx)\n\n    # Проверка, что mse не превышает 2\n    assert mse <= 2, f'Dataset 2: MSE is {mse}, что больше допустимого значения [2]'\n\n    # Проверка, что r2 находится в диапазоне от 0 до 1\n    assert 0 <= r2 <= 1, f'Dataset 2: R2 score is {r2}, что не находится в допустимом диапазоне [0, 1]'\n\ntest_dataset2()",
      "outputs": []
    },
    {
      "id": "50e9d01b-fada-491a-b6b1-1425150f15d7",
      "cell_type": "code",
      "metadata": {
        "jupyter": {
          "outputs_hidden": false,
          "source_hidden": false
        },
        "noteable": {
          "cell_type": "code",
          "output_collection_id": "dd03cde9-8719-4ffb-938b-f7f253397609"
        },
        "ExecuteTime": {
          "end_time": "2023-06-23T18:57:14.745523+00:00",
          "start_time": "2023-06-23T18:57:12.235469+00:00"
        }
      },
      "execution_count": null,
      "source": "!pytest test_data2.py",
      "outputs": []
    },
    {
      "id": "e6a1f0fa-74b8-438e-b365-04179846a73f",
      "cell_type": "markdown",
      "source": "Проверка модели на наборе данных Dataset 3:",
      "metadata": {
        "noteable": {
          "cell_type": "markdown"
        }
      }
    },
    {
      "id": "59bd1d3f-3dbc-4951-b773-6ee23ca6b7d5",
      "cell_type": "code",
      "metadata": {
        "jupyter": {
          "outputs_hidden": false,
          "source_hidden": false
        },
        "noteable": {
          "cell_type": "code",
          "output_collection_id": "6e1817de-28d4-44e7-80eb-45b841975c3b"
        },
        "ExecuteTime": {
          "end_time": "2023-06-23T18:57:16.789303+00:00",
          "start_time": "2023-06-23T18:57:16.631203+00:00"
        }
      },
      "execution_count": null,
      "source": "%%writefile test_data3.py\nimport pytest\nimport pandas as pd\nimport pickle\nfrom sklearn.metrics import mean_squared_error, r2_score\nfrom sklearn.linear_model import LinearRegression\n\n# Загружаем модель из файла\nwith open('model3.pkl', 'rb') as f:\n    model = pickle.load(f)\n\n# Загружаем датасет из файла\ndf3 = pd.read_csv('dataset3.csv')\n\ndef test_dataset3():\n    # Предсказание модели\n    approx = model.predict(df3['Feature1'].values.reshape(-1, 1))\n\n    # Вычисление среднеквадратичной ошибки и R2-оценки\n    mse = mean_squared_error(df3['Target'], approx)\n    r2 = r2_score(df3['Target'], approx)\n\n    # Проверка, что mse не превышает 2\n    assert mse <= 2, f'Dataset 3: MSE is {mse}, что больше допустимого значения [2]'\n\n    # Проверка, что r2 находится в диапазоне от 0 до 1\n    assert 0 <= r2 <= 1, f'Dataset 3: R2 score is {r2}, что не находится в допустимом диапазоне [0, 1]'\n\ntest_dataset3()\n",
      "outputs": []
    },
    {
      "id": "db981ba9-dd2b-412f-8650-ab27493a0bcb",
      "cell_type": "code",
      "metadata": {
        "jupyter": {
          "outputs_hidden": false,
          "source_hidden": false
        },
        "noteable": {
          "cell_type": "code",
          "output_collection_id": "178cba73-756c-4a23-858b-d2ce07afcdb9"
        },
        "ExecuteTime": {
          "end_time": "2023-06-23T18:57:21.483337+00:00",
          "start_time": "2023-06-23T18:57:18.936821+00:00"
        }
      },
      "execution_count": null,
      "source": "!pytest test_data3.py",
      "outputs": []
    },
    {
      "id": "94d24806-a21f-4ee7-99e2-7583c1f1efad",
      "cell_type": "markdown",
      "source": "Проверка модели на наборе данных Dataset 4:",
      "metadata": {
        "noteable": {
          "cell_type": "markdown"
        }
      }
    },
    {
      "id": "9ab3a3c7-58f6-43d9-95a1-d5e1a2f4859c",
      "cell_type": "code",
      "metadata": {
        "jupyter": {
          "outputs_hidden": false,
          "source_hidden": false
        },
        "noteable": {
          "cell_type": "code",
          "output_collection_id": "ee1f6909-52ab-4bdc-b188-0af5b129155e"
        },
        "ExecuteTime": {
          "end_time": "2023-06-23T18:57:23.595629+00:00",
          "start_time": "2023-06-23T18:57:23.437127+00:00"
        }
      },
      "execution_count": null,
      "source": "%%writefile test_data4.py\nimport pytest\nimport pandas as pd\nimport pickle\nfrom sklearn.metrics import mean_squared_error, r2_score\nfrom sklearn.linear_model import LinearRegression\n\n# Загружаем модель из файла\nwith open('model3.pkl', 'rb') as f:\n    model = pickle.load(f)\n\n# Загружаем датасет из файла\ndf4 = pd.read_csv('dataset4.csv')\n\ndef test_dataset4():\n    # Предсказание модели\n    approx = model.predict(df4['Feature1'].values.reshape(-1, 1))\n\n    # Вычисление среднеквадратичной ошибки и R2-оценки\n    mse = mean_squared_error(df4['Target'], approx)\n    r2 = r2_score(df4['Target'], approx)\n\n    # Проверка, что mse не превышает 2\n    assert mse <= 2, f'Dataset 4: MSE is {mse}, что больше допустимого значения [2]'\n\n    # Проверка, что r2 находится в диапазоне от 0 до 1\n    assert 0 <= r2 <= 1, f'Dataset 4: R2 score is {r2}, что не находится в допустимом диапазоне [0, 1]'\n\ntest_dataset4()\n",
      "outputs": []
    },
    {
      "id": "43a52b16-689e-40bb-9215-10d9fc107639",
      "cell_type": "code",
      "metadata": {
        "jupyter": {
          "outputs_hidden": false,
          "source_hidden": false
        },
        "noteable": {
          "cell_type": "code",
          "output_collection_id": "2c77f977-54ce-44d3-893b-80662d4869cc"
        },
        "ExecuteTime": {
          "end_time": "2023-06-23T18:57:29.638380+00:00",
          "start_time": "2023-06-23T18:57:26.735587+00:00"
        }
      },
      "execution_count": null,
      "source": "!pytest test_data4.py",
      "outputs": []
    },
    {
      "id": "c346170c-fa45-48a9-aad1-674ed6b774d6",
      "cell_type": "markdown",
      "source": "По результатам тестирования датасета 4 мы видим, что тест не прошел, что ожидаемо, так как этот датасет содержит шумы и выбросы. Среднеквадратичная ошибка (MSE) составляет 20.006509826994307, что значительно превышает установленный порог в 2.\n\nМодель, обученная на третьем датасете, не обобщает данные датасета 4 достаточно хорошо из-за наличия шумов и выбросов в данных. Для улучшения результатов на таких данных потребуется использование более сложных моделей или применение методов для обработки выбросов и шумов в данных.\n\nРезультаты тестирования помогают нам оценить производительность модели на разных датасетах и выявить ограничения модели в разных сценариях использования. Это позволяет нам принимать решения о дальнейших улучшениях модели или выборе более подходящих алгоритмов для различных типов данных.",
      "metadata": {
        "noteable": {
          "cell_type": "markdown"
        }
      }
    }
  ]
}